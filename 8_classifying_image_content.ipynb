{
 "cells": [
  {
   "cell_type": "markdown",
   "metadata": {},
   "source": [
    "**Глава 8. Классификация изображений по содержанию**\n",
    "\n",
    "Навигация к соседним тетрадям:\n",
    "<!--NAVIGATION-->\n",
    "<[Глава 7. Поиск изображений](7_searching_images.ipynb) | [Содержание](0_index.ipynb) | [Глава 9. Сегментация изображений](9_image_segmentation.ipynb)>\n",
    "\n",
    "<a href=\"https://colab.research.google.com/github/mualal/computer-vision-with-python/blob/master/8_classifying_image_content.ipynb\">    <img align=\"left\" src=\"https://colab.research.google.com/assets/colab-badge.svg\" alt=\"Open in Colab\" title=\"Открыть и запустить в Google Colaboratory\"></a>"
   ]
  },
  {
   "cell_type": "code",
   "execution_count": 1,
   "metadata": {},
   "outputs": [],
   "source": [
    "import numpy as np\n",
    "import pickle\n",
    "import os"
   ]
  },
  {
   "cell_type": "code",
   "execution_count": 2,
   "metadata": {},
   "outputs": [],
   "source": [
    "try:\n",
    "    import google.colab, sys\n",
    "    !git clone https://github.com/mualal/computer-vision-with-python.git\n",
    "    sys.path.append('computer-vision-with-python')\n",
    "    %cd computer-vision-with-python\n",
    "except:\n",
    "    import sys\n",
    "    sys.path.append('..')"
   ]
  },
  {
   "cell_type": "code",
   "execution_count": 3,
   "metadata": {},
   "outputs": [],
   "source": [
    "import imtools\n",
    "import knn"
   ]
  },
  {
   "cell_type": "code",
   "execution_count": 4,
   "metadata": {},
   "outputs": [],
   "source": [
    "def create_normal(\n",
    "    n=200,\n",
    "    file_name='points_normal.pkl'\n",
    ") -> None:\n",
    "    class1 = 0.6 * np.random.randn(n, 2)\n",
    "    class2 = 1.2 * np.random.randn(n, 2) + np.array([5, 1])\n",
    "    labels = np.hstack((np.ones(n), -np.ones(n)))\n",
    "\n",
    "    with open(os.path.join('images_output', file_name), 'wb') as f:\n",
    "        pickle.dump(class1, f)\n",
    "        pickle.dump(class2, f)\n",
    "        pickle.dump(labels, f)\n",
    "\n",
    "\n",
    "def create_ring(\n",
    "    n=200,\n",
    "    file_name='points_ring.pkl'\n",
    ") -> None:\n",
    "    class1 = 0.6 * np.random.randn(n, 2)\n",
    "    r = 0.8 * np.random.randn(n, 1) + 5\n",
    "    angle = 2 * np.pi * np.random.randn(n, 1)\n",
    "    class2 = np.hstack((r * np.cos(angle), r * np.sin(angle)))\n",
    "    labels = np.hstack((np.ones(n), -np.ones(n)))\n",
    "\n",
    "    with open(os.path.join('images_output', file_name), 'wb') as f:\n",
    "        pickle.dump(class1, f)\n",
    "        pickle.dump(class2, f)\n",
    "        pickle.dump(labels, f)\n"
   ]
  },
  {
   "cell_type": "code",
   "execution_count": 5,
   "metadata": {},
   "outputs": [],
   "source": [
    "create_normal(\n",
    "    file_name='points_normal_train.pkl'\n",
    ")\n",
    "create_normal(\n",
    "    file_name='points_normal_test.pkl'\n",
    ")\n",
    "\n",
    "create_ring(\n",
    "    file_name='points_ring_train.pkl'\n",
    ")\n",
    "create_ring(\n",
    "    file_name='points_ring_test.pkl'\n",
    ")"
   ]
  },
  {
   "cell_type": "code",
   "execution_count": 6,
   "metadata": {},
   "outputs": [
    {
     "name": "stdout",
     "output_type": "stream",
     "text": [
      "1.0\n"
     ]
    }
   ],
   "source": [
    "with open(os.path.join('images_output', 'points_normal_train.pkl'), 'rb') as f:\n",
    "    class1 = pickle.load(f)\n",
    "    class2 = pickle.load(f)\n",
    "    labels = pickle.load(f)\n",
    "model = knn.KnnClassifier(labels, np.vstack((class1, class2)))\n",
    "\n",
    "with open(os.path.join('images_output', 'points_normal_test.pkl'), 'rb') as f:\n",
    "    class1 = pickle.load(f)\n",
    "    class2 = pickle.load(f)\n",
    "    labels = pickle.load(f)\n",
    "print(model.classify(class1[0]))"
   ]
  },
  {
   "cell_type": "code",
   "execution_count": 7,
   "metadata": {},
   "outputs": [
    {
     "data": {
      "image/png": "[encoded data removed]",
      "text/plain": [
       "<Figure size 432x288 with 1 Axes>"
      ]
     },
     "metadata": {
      "needs_background": "light"
     },
     "output_type": "display_data"
    }
   ],
   "source": [
    "def classify(\n",
    "    x,\n",
    "    y,\n",
    "    model=model\n",
    "):\n",
    "    return np.array([model.classify([xx, yy]) for xx, yy in zip(x, y)])\n",
    "\n",
    "imtools.plot_2d_boundary([-6, 6, -6, 6], [class1, class2], classify, [1, -1])"
   ]
  },
  {
   "cell_type": "code",
   "execution_count": 8,
   "metadata": {},
   "outputs": [
    {
     "name": "stdout",
     "output_type": "stream",
     "text": [
      "1.0\n"
     ]
    }
   ],
   "source": [
    "with open(os.path.join('images_output', 'points_ring_train.pkl'), 'rb') as f:\n",
    "    class1 = pickle.load(f)\n",
    "    class2 = pickle.load(f)\n",
    "    labels = pickle.load(f)\n",
    "model = knn.KnnClassifier(labels, np.vstack((class1, class2)))\n",
    "\n",
    "with open(os.path.join('images_output', 'points_ring_test.pkl'), 'rb') as f:\n",
    "    class1 = pickle.load(f)\n",
    "    class2 = pickle.load(f)\n",
    "    labels = pickle.load(f)\n",
    "print(model.classify(class1[0]))"
   ]
  },
  {
   "cell_type": "code",
   "execution_count": 9,
   "metadata": {},
   "outputs": [
    {
     "data": {
      "image/png": "[encoded data removed]",
      "text/plain": [
       "<Figure size 432x288 with 1 Axes>"
      ]
     },
     "metadata": {
      "needs_background": "light"
     },
     "output_type": "display_data"
    }
   ],
   "source": [
    "def classify(\n",
    "    x,\n",
    "    y,\n",
    "    model=model\n",
    "):\n",
    "    return np.array([model.classify([xx, yy]) for xx, yy in zip(x, y)])\n",
    "\n",
    "imtools.plot_2d_boundary([-6, 6, -6, 6], [class1, class2], classify, [1, -1])"
   ]
  },
  {
   "cell_type": "markdown",
   "metadata": {},
   "source": [
    "<!--NAVIGATION-->\n",
    "<[Глава 7. Поиск изображений](7_searching_images.ipynb) | [Содержание](0_index.ipynb) | [Глава 9. Сегментация изображений](9_image_segmentation.ipynb)>\n",
    "\n",
    "<a href=\"https://colab.research.google.com/github/mualal/computer-vision-with-python/blob/master/8_classifying_image_content.ipynb\">    <img align=\"left\" src=\"https://colab.research.google.com/assets/colab-badge.svg\" alt=\"Open in Colab\" title=\"Открыть и запустить в Google Colaboratory\"></a>"
   ]
  }
 ],
 "metadata": {
  "interpreter": {
   "hash": "16c785bea8d5b5c9e13667873100a61e7e57bf89208da9efa3a2ed5dc7e5f7b0"
  },
  "kernelspec": {
   "display_name": "Python 3.10.5 ('venv': venv)",
   "language": "python",
   "name": "python3"
  },
  "language_info": {
   "codemirror_mode": {
    "name": "ipython",
    "version": 3
   },
   "file_extension": ".py",
   "mimetype": "text/x-python",
   "name": "python",
   "nbconvert_exporter": "python",
   "pygments_lexer": "ipython3",
   "version": "3.10.5"
  },
  "orig_nbformat": 4
 },
 "nbformat": 4,
 "nbformat_minor": 2
}
