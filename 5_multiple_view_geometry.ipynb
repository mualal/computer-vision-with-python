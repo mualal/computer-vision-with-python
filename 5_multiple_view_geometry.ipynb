{
 "cells": [
  {
   "cell_type": "markdown",
   "metadata": {},
   "source": [
    "**Глава 5. Многовидовая геометрия**\n",
    "\n",
    "Навигация к соседним тетрадям:\n",
    "<!--NAVIGATION-->\n",
    "<[Глава 4. Модели камер и дополненная реальность](4_camera_models_and_augmented_reality.ipynb) | [Содержание](0_index.ipynb) | [Глава 6. Кластеризация изображений](6_clustering_images.ipynb)>\n",
    "\n",
    "<a href=\"https://colab.research.google.com/github/mualal/computer-vision-with-python/blob/master/5_multiple_view_geometry.ipynb\">    <img align=\"left\" src=\"https://colab.research.google.com/assets/colab-badge.svg\" alt=\"Open in Colab\" title=\"Открыть и запустить в Google Colaboratory\"></a>"
   ]
  },
  {
   "cell_type": "code",
   "execution_count": null,
   "metadata": {},
   "outputs": [],
   "source": []
  },
  {
   "cell_type": "markdown",
   "metadata": {},
   "source": [
    "<!--NAVIGATION-->\n",
    "<[Глава 4. Модели камер и дополненная реальность](4_camera_models_and_augmented_reality.ipynb) | [Содержание](0_index.ipynb) | [Глава 6. Кластеризация изображений](6_clustering_images.ipynb)>\n",
    "\n",
    "<a href=\"https://colab.research.google.com/github/mualal/computer-vision-with-python/blob/master/5_multiple_view_geometry.ipynb\">    <img align=\"left\" src=\"https://colab.research.google.com/assets/colab-badge.svg\" alt=\"Open in Colab\" title=\"Открыть и запустить в Google Colaboratory\"></a>"
   ]
  }
 ],
 "metadata": {
  "interpreter": {
   "hash": "16c785bea8d5b5c9e13667873100a61e7e57bf89208da9efa3a2ed5dc7e5f7b0"
  },
  "kernelspec": {
   "display_name": "Python 3.10.5 ('venv': venv)",
   "language": "python",
   "name": "python3"
  },
  "language_info": {
   "codemirror_mode": {
    "name": "ipython",
    "version": 3
   },
   "file_extension": ".py",
   "mimetype": "text/x-python",
   "name": "python",
   "nbconvert_exporter": "python",
   "pygments_lexer": "ipython3",
   "version": "3.10.5"
  },
  "orig_nbformat": 4
 },
 "nbformat": 4,
 "nbformat_minor": 2
}
