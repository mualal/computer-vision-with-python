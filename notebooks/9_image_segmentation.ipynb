{
 "cells": [
  {
   "attachments": {},
   "cell_type": "markdown",
   "metadata": {},
   "source": [
    "**Глава 9. Сегментация изображений**\n",
    "\n",
    "Навигация к соседним тетрадям:\n",
    "<!--NAVIGATION-->\n",
    "<[Глава 8. Классификация изображений по содержанию](8_classifying_image_content.ipynb) | [Содержание](0_index.ipynb) | [Глава 10. openCV](10_openCV.ipynb)>\n",
    "\n",
    "<a href=\"https://colab.research.google.com/github/mualal/computer-vision-with-python/blob/master/notebooks/9_image_segmentation.ipynb\">    <img align=\"left\" src=\"https://colab.research.google.com/assets/colab-badge.svg\" alt=\"Open in Colab\" title=\"Открыть и запустить в Google Colaboratory\"></a>"
   ]
  },
  {
   "cell_type": "code",
   "execution_count": null,
   "metadata": {},
   "outputs": [],
   "source": []
  },
  {
   "attachments": {},
   "cell_type": "markdown",
   "metadata": {},
   "source": [
    "<!--NAVIGATION-->\n",
    "<[Глава 8. Классификация изображений по содержанию](8_classifying_image_content.ipynb) | [Содержание](0_index.ipynb) | [Глава 10. openCV](10_openCV.ipynb)>\n",
    "\n",
    "<a href=\"https://colab.research.google.com/github/mualal/computer-vision-with-python/blob/master/notebooks/9_image_segmentation.ipynb\">    <img align=\"left\" src=\"https://colab.research.google.com/assets/colab-badge.svg\" alt=\"Open in Colab\" title=\"Открыть и запустить в Google Colaboratory\"></a>"
   ]
  },
  {
   "cell_type": "markdown",
   "metadata": {},
   "source": []
  }
 ],
 "metadata": {
  "kernelspec": {
   "display_name": "computer-vision-with-python-env",
   "language": "python",
   "name": "python3"
  },
  "language_info": {
   "codemirror_mode": {
    "name": "ipython",
    "version": 3
   },
   "file_extension": ".py",
   "mimetype": "text/x-python",
   "name": "python",
   "nbconvert_exporter": "python",
   "pygments_lexer": "ipython3",
   "version": "3.10.9 (main, Jan 11 2023, 09:18:20) [Clang 14.0.6 ]"
  },
  "orig_nbformat": 4,
  "vscode": {
   "interpreter": {
    "hash": "0638bb6de1a0c7e4de344e894bdfb72b6b41b865ee0a458da11bf6e6aade70f6"
   }
  }
 },
 "nbformat": 4,
 "nbformat_minor": 2
}
