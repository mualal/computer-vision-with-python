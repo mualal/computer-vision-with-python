{
 "cells": [
  {
   "cell_type": "markdown",
   "metadata": {},
   "source": [
    "**Программирование компьютерного зрения на языке Python**\n",
    "\n",
    "Содержание.\n",
    "\n",
    "[1 Основы обработки изображений](1_basic_image_handling_and_processing.ipynb)\n",
    "\n",
    "[2 Локальные дескрипторы изображений](2_local_image_descriptors.ipynb)\n",
    "\n",
    "[3 Преобразования изображений](3_image_to_image_mapping.ipynb)\n",
    "\n",
    "[4 Модели камер и дополненная реальность](4_camera_models_and_augmented_reality.ipynb)\n",
    "\n",
    "[5 Многовидовая геометрия](5_multiple_view_geometry.ipynb)\n",
    "\n",
    "[6 Кластеризация изображений](6_clustering_images.ipynb)\n",
    "\n",
    "[7 Поиск изображений](7_searching_images.ipynb)\n",
    "\n",
    "[8 Классификация изображений по содержанию](8_classifying_image_content.ipynb)\n",
    "\n",
    "[9 Сегментация изображений](9_image_segmentation.ipynb)\n",
    "\n",
    "[10 openCV](10_openCV.ipynb)"
   ]
  }
 ],
 "metadata": {
  "kernelspec": {
   "display_name": "Python 3",
   "language": "python",
   "name": "python3"
  },
  "language_info": {
   "name": "python",
   "version": "3.11.1 (v3.11.1:a7a450f84a, Dec  6 2022, 15:24:06) [Clang 13.0.0 (clang-1300.0.29.30)]"
  },
  "orig_nbformat": 4,
  "vscode": {
   "interpreter": {
    "hash": "aee8b7b246df8f9039afb4144a1f6fd8d2ca17a180786b69acc140d282b71a49"
   }
  }
 },
 "nbformat": 4,
 "nbformat_minor": 2
}
