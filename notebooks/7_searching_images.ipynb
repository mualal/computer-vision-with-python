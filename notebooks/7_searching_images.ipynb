{
 "cells": [
  {
   "attachments": {},
   "cell_type": "markdown",
   "metadata": {},
   "source": [
    "**Глава 7. Поиск изображений**\n",
    "\n",
    "Навигация к соседним тетрадям:\n",
    "<!--NAVIGATION-->\n",
    "<[Глава 6. Кластеризация изображений](6_clustering_images.ipynb) | [Содержание](0_index.ipynb) | [Глава 8. Классификация изображений по содержанию](8_classifying_image_content.ipynb)>\n",
    "\n",
    "<a href=\"https://colab.research.google.com/github/mualal/computer-vision-with-python/blob/master/notebooks/7_searching_images.ipynb\">    <img align=\"left\" src=\"https://colab.research.google.com/assets/colab-badge.svg\" alt=\"Open in Colab\" title=\"Открыть и запустить в Google Colaboratory\"></a>"
   ]
  },
  {
   "cell_type": "code",
   "execution_count": null,
   "metadata": {},
   "outputs": [],
   "source": []
  },
  {
   "attachments": {},
   "cell_type": "markdown",
   "metadata": {},
   "source": [
    "<!--NAVIGATION-->\n",
    "<[Глава 6. Кластеризация изображений](6_clustering_images.ipynb) | [Содержание](0_index.ipynb) | [Глава 8. Классификация изображений по содержанию](8_classifying_image_content.ipynb)>\n",
    "\n",
    "<a href=\"https://colab.research.google.com/github/mualal/computer-vision-with-python/blob/master/notebooks/7_searching_images.ipynb\">    <img align=\"left\" src=\"https://colab.research.google.com/assets/colab-badge.svg\" alt=\"Open in Colab\" title=\"Открыть и запустить в Google Colaboratory\"></a>"
   ]
  },
  {
   "cell_type": "markdown",
   "metadata": {},
   "source": []
  }
 ],
 "metadata": {
  "kernelspec": {
   "display_name": "Python 3",
   "language": "python",
   "name": "python3"
  },
  "language_info": {
   "codemirror_mode": {
    "name": "ipython",
    "version": 3
   },
   "file_extension": ".py",
   "mimetype": "text/x-python",
   "name": "python",
   "nbconvert_exporter": "python",
   "pygments_lexer": "ipython3",
   "version": "3.11.1 (v3.11.1:a7a450f84a, Dec  6 2022, 15:24:06) [Clang 13.0.0 (clang-1300.0.29.30)]"
  },
  "orig_nbformat": 4,
  "vscode": {
   "interpreter": {
    "hash": "aee8b7b246df8f9039afb4144a1f6fd8d2ca17a180786b69acc140d282b71a49"
   }
  }
 },
 "nbformat": 4,
 "nbformat_minor": 2
}
